{
 "cells": [
  {
   "cell_type": "code",
   "execution_count": 1,
   "id": "4a6fd761-442c-4fbe-8c45-e2a14afe8e27",
   "metadata": {
    "tags": []
   },
   "outputs": [],
   "source": [
    "import numpy as np\n",
    "import pandas as pd"
   ]
  },
  {
   "cell_type": "code",
   "execution_count": 37,
   "id": "0d6b8aca-8d61-4f93-a0c0-d4f2d192fa00",
   "metadata": {
    "tags": []
   },
   "outputs": [],
   "source": [
    "# Read\n",
    "df = pd.read_csv('../data/simplemaps_worldcities_basicv1.76/worldcities.csv')\n",
    "\n",
    "# Cities > 500,000 population\n",
    "df_pop = df.query('population > 500000')\n",
    "\n",
    "# Drop duplicates (take more populous entry)\n",
    "df_pop = df_pop.sort_values(by='population', ascending=False).drop_duplicates(subset=['city_ascii'])"
   ]
  },
  {
   "cell_type": "code",
   "execution_count": 42,
   "id": "7dc5a805-bf87-42e8-8044-8d953b15ae05",
   "metadata": {
    "tags": []
   },
   "outputs": [],
   "source": [
    "# Out\n",
    "df_out = df_pop[['city_ascii', 'country', 'lat', 'lng']]\n",
    "\n",
    "df_out.to_csv('../data/simplemaps_worldcities_basicv1.76_subset.csv')"
   ]
  },
  {
   "cell_type": "code",
   "execution_count": null,
   "id": "2046aa35-59c6-416d-98d6-91ed52d81208",
   "metadata": {},
   "outputs": [],
   "source": []
  }
 ],
 "metadata": {
  "kernelspec": {
   "display_name": "Python 3 (ipykernel)",
   "language": "python",
   "name": "python3"
  },
  "language_info": {
   "codemirror_mode": {
    "name": "ipython",
    "version": 3
   },
   "file_extension": ".py",
   "mimetype": "text/x-python",
   "name": "python",
   "nbconvert_exporter": "python",
   "pygments_lexer": "ipython3",
   "version": "3.11.3"
  }
 },
 "nbformat": 4,
 "nbformat_minor": 5
}
